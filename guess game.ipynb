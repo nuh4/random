{
 "cells": [
  {
   "cell_type": "code",
   "execution_count": 8,
   "metadata": {},
   "outputs": [
    {
     "name": "stdout",
     "output_type": "stream",
     "text": [
      "Enter your guess(1-100)60\n",
      "HIGHER. 4 guesses left.\n",
      "\n",
      "Enter your guess(1-100)66\n",
      "LOWER. 3 guesses left.\n",
      "\n",
      "Enter your guess(1-100)64\n",
      "HIGHER. 2 guesses left.\n",
      "\n",
      "Enter your guess(1-100)65\n",
      "You got it!\n"
     ]
    }
   ],
   "source": [
    "from random import randint\n",
    "\n",
    "secret_num = randint(1,100)\n",
    "\n",
    "for num_guesses in range(5):\n",
    "    guess = int(input('Enter your guess(1-100)'))\n",
    "    if guess < secret_num:\n",
    "        print('HIGHER.', 4-num_guesses, 'guesses left.\\n')\n",
    "    elif guess > secret_num:\n",
    "        print('LOWER.', 4-num_guesses, 'guesses left.\\n')\n",
    "    else:\n",
    "        print('You got it!')\n",
    "        break\n",
    "            \n",
    "else: \n",
    "    print('You lose. The correct number is', secret_num)"
   ]
  },
  {
   "cell_type": "code",
   "execution_count": null,
   "metadata": {},
   "outputs": [],
   "source": []
  },
  {
   "cell_type": "code",
   "execution_count": null,
   "metadata": {},
   "outputs": [],
   "source": []
  },
  {
   "cell_type": "code",
   "execution_count": null,
   "metadata": {},
   "outputs": [],
   "source": []
  }
 ],
 "metadata": {
  "kernelspec": {
   "display_name": "Python 3",
   "language": "python",
   "name": "python3"
  },
  "language_info": {
   "codemirror_mode": {
    "name": "ipython",
    "version": 3
   },
   "file_extension": ".py",
   "mimetype": "text/x-python",
   "name": "python",
   "nbconvert_exporter": "python",
   "pygments_lexer": "ipython3",
   "version": "3.8.3"
  }
 },
 "nbformat": 4,
 "nbformat_minor": 4
}
